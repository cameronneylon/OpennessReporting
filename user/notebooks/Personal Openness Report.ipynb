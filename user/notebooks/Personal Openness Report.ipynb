{
 "metadata": {
  "name": "Personal Openness Report"
 },
 "nbformat": 3,
 "nbformat_minor": 0,
 "worksheets": [
  {
   "cells": [
    {
     "cell_type": "markdown",
     "metadata": {},
     "source": [
      "#Personal Openness Reporting#\n",
      "\n",
      "[ORCID](http://orcid.org) provides a means of collecting a persons research outputs together, providing via its API a list of works, which can be interrogated to obtain DOIs. The [Open Article Gauge](http://oag.cottagelabs.com) provides a mechanism for taking an article DOI and returning license information at the article level via an API. Using these two APIs together it is possible to create a personal openness report for someone with an ORCID. This simple mashup shows how this can be done in the context of an iPython Notebook using a small module of convenience functions to wrap the respective APIs.\n",
      "\n"
     ]
    },
    {
     "cell_type": "code",
     "collapsed": false,
     "input": [
      "from hoami import *\n",
      "ids = list_works('0000-0002-0068-716X')\n",
      "request = OAG_Request(ids)\n",
      "request.post_list()\n",
      "request.get_list()\n",
      "response = OAG_Response(request.jsonize())\n",
      "print \"Total Papers:\", response.length()\n",
      "print \"Open Papers:\", response.count_open()\n",
      "chart(response.count_open(), response.length())"
     ],
     "language": "python",
     "metadata": {},
     "outputs": [
      {
       "output_type": "stream",
       "stream": "stdout",
       "text": [
        "Getting works for: Cameron Neylon\n",
        "Total Papers:"
       ]
      },
      {
       "output_type": "stream",
       "stream": "stdout",
       "text": [
        " 45\n",
        "Open Papers: 8\n"
       ]
      },
      {
       "output_type": "display_data",
       "png": "[encoded data removed]"
      }
     ],
     "prompt_number": 1
    },
    {
     "cell_type": "code",
     "collapsed": false,
     "input": [],
     "language": "python",
     "metadata": {},
     "outputs": [],
     "prompt_number": 1
    },
    {
     "cell_type": "code",
     "collapsed": false,
     "input": [],
     "language": "python",
     "metadata": {},
     "outputs": [],
     "prompt_number": 24
    },
    {
     "cell_type": "code",
     "collapsed": false,
     "input": [],
     "language": "python",
     "metadata": {},
     "outputs": []
    }
   ],
   "metadata": {}
  }
 ]
}